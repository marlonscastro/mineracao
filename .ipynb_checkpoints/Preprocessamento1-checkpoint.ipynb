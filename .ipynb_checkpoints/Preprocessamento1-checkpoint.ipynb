{
 "cells": [
  {
   "cell_type": "code",
   "execution_count": 97,
   "metadata": {},
   "outputs": [],
   "source": [
    "import numpy as np\n",
    "import pandas as pd\n",
    "import matplotlib.pyplot as pl\n",
    "import seaborn as sb\n",
    "from sklearn.cluster import KMeans\n",
    "from sklearn.preprocessing import LabelEncoder\n",
    "\n",
    "%matplotlib inline\n",
    "\n",
    "df = pd.read_csv('SAUDE_FINAL.csv')"
   ]
  },
  {
   "cell_type": "code",
   "execution_count": 98,
   "metadata": {},
   "outputs": [],
   "source": [
    "label_encoder = LabelEncoder()"
   ]
  },
  {
   "cell_type": "code",
   "execution_count": 99,
   "metadata": {},
   "outputs": [],
   "source": [
    "MEDICAMENTO = np.array(df['MEDICAMENTO'])\n",
    "NM = np.array(df['NM'])\n",
    "PATOLOGIA = np.array(df['PATOLOGIA'])\n",
    "PRESCRITOR = np.array(df['PRESCRITOR'])\n",
    "UNIDADE = np.array(df['UNIDADE'])\n",
    "ORIGEM = np.array(df['ORIGEM'])\n",
    "JUIZ = np.array(df['JUIZ'])\n",
    "COMARCA = np.array(df['COMARCA'])\n",
    "ADVOGADO = np.array(df['ADVOGADO'])\n",
    "DEFERIDA = np.array(df['DEFERIDA'])\n",
    "RA = np.array(df['RA'])\n",
    "MUNICIPIO = np.array(df['MUNICIPIO'])\n",
    "RESTITUIU = np.array(df['RESTITUIU'])"
   ]
  },
  {
   "cell_type": "code",
   "execution_count": 100,
   "metadata": {},
   "outputs": [],
   "source": [
    "# Conjunto de todos os elementos distintos do array \n",
    "MEDICAMENTO_DISTINCTS = set(MEDICAMENTO)\n",
    "\n",
    "MEDICAMENTO = label_encoder.fit_transform(MEDICAMENTO)\n",
    "MEDICAMENTO = MEDICAMENTO.astype(float)\n",
    "#set(val)  :  Mostra o conjunto distinto de elementos\n",
    "def normalize(n): \n",
    "    return round((n/(len(MEDICAMENTO_DISTINCTS))), 2)\n",
    "MEDICAMENTO = map(normalize, MEDICAMENTO)"
   ]
  },
  {
   "cell_type": "code",
   "execution_count": 101,
   "metadata": {},
   "outputs": [],
   "source": [
    "NMD = set(NM)\n",
    "\n",
    "NM = label_encoder.fit_transform(NM)\n",
    "NM = NM.astype(float)\n",
    "#set(val)  :  Mostra o conjunto distinto de elementos\n",
    "def normalize(n): \n",
    "    return round((n/(len(NMD))), 2)\n",
    "NM = map(normalize, NM)"
   ]
  },
  {
   "cell_type": "code",
   "execution_count": 102,
   "metadata": {},
   "outputs": [],
   "source": [
    "PATOLOGIAD = set(PATOLOGIA)\n",
    "\n",
    "PATOLOGIA = label_encoder.fit_transform(PATOLOGIA)\n",
    "PATOLOGIA = PATOLOGIA.astype(float)\n",
    "#set(val)  :  Mostra o conjunto distinto de elementos\n",
    "def normalize(n): \n",
    "    return round((n/(len(PATOLOGIAD))), 2)\n",
    "PATOLOGIA = map(normalize, PATOLOGIA)"
   ]
  },
  {
   "cell_type": "code",
   "execution_count": 103,
   "metadata": {},
   "outputs": [],
   "source": [
    "PRESCRITORD = set(PRESCRITOR)\n",
    "\n",
    "PRESCRITOR = label_encoder.fit_transform(PRESCRITOR)\n",
    "PRESCRITOR = PRESCRITOR.astype(float)\n",
    "#set(val)  :  Mostra o conjunto distinto de elementos\n",
    "def normalize(n): \n",
    "    return round((n/(len(PRESCRITORD))), 2)\n",
    "PRESCRITOR = map(normalize, PRESCRITOR)"
   ]
  },
  {
   "cell_type": "code",
   "execution_count": 104,
   "metadata": {},
   "outputs": [],
   "source": [
    "TAM = set(UNIDADE)\n",
    "\n",
    "UNIDADE = label_encoder.fit_transform(UNIDADE)\n",
    "UNIDADE = UNIDADE.astype(float)\n",
    "#set(val)  :  Mostra o conjunto distinto de elementos\n",
    "def normalize(n): \n",
    "    return round((n/(len(TAM))), 2)\n",
    "UNIDADE = map(normalize, UNIDADE)"
   ]
  },
  {
   "cell_type": "code",
   "execution_count": 114,
   "metadata": {},
   "outputs": [],
   "source": [
    "TAM = set(ORIGEM)\n",
    "\n",
    "ORIGEM = label_encoder.fit_transform(ORIGEM)\n",
    "ORIGEM = ORIGEM.astype(float)\n",
    "#set(val)  :  Mostra o conjunto distinto de elementos\n",
    "def normalize(n): \n",
    "    return round((n/(len(TAM))), 2)\n",
    "ORIGEM = map(normalize, ORIGEM)"
   ]
  },
  {
   "cell_type": "code",
   "execution_count": 105,
   "metadata": {},
   "outputs": [],
   "source": [
    "TAM = set(JUIZ)\n",
    "\n",
    "JUIZ = label_encoder.fit_transform(JUIZ)\n",
    "JUIZ = JUIZ.astype(float)\n",
    "#set(val)  :  Mostra o conjunto distinto de elementos\n",
    "def normalize(n): \n",
    "    return round((n/(len(TAM))), 2)\n",
    "JUIZ = map(normalize, JUIZ)"
   ]
  },
  {
   "cell_type": "code",
   "execution_count": 106,
   "metadata": {},
   "outputs": [],
   "source": [
    "TAM = set(COMARCA)\n",
    "\n",
    "COMARCA = label_encoder.fit_transform(COMARCA)\n",
    "COMARCA = COMARCA.astype(float)\n",
    "#set(val)  :  Mostra o conjunto distinto de elementos\n",
    "def normalize(n): \n",
    "    return round((n/(len(TAM))), 2)\n",
    "COMARCA = map(normalize, COMARCA)"
   ]
  },
  {
   "cell_type": "code",
   "execution_count": 107,
   "metadata": {},
   "outputs": [],
   "source": [
    "TAM = set(ADVOGADO)\n",
    "\n",
    "ADVOGADO = label_encoder.fit_transform(ADVOGADO)\n",
    "ADVOGADO = ADVOGADO.astype(float)\n",
    "#set(val)  :  Mostra o conjunto distinto de elementos\n",
    "def normalize(n): \n",
    "    return round((n/(len(TAM))), 2)\n",
    "ADVOGADO = map(normalize, ADVOGADO)"
   ]
  },
  {
   "cell_type": "code",
   "execution_count": 108,
   "metadata": {},
   "outputs": [],
   "source": [
    "TAM = set(DEFERIDA)\n",
    "\n",
    "DEFERIDA = label_encoder.fit_transform(DEFERIDA)\n",
    "DEFERIDA = DEFERIDA.astype(float)\n",
    "#set(val)  :  Mostra o conjunto distinto de elementos\n",
    "def normalize(n): \n",
    "    return round((n/(len(TAM))), 2)\n",
    "DEFERIDA = map(normalize, DEFERIDA)"
   ]
  },
  {
   "cell_type": "code",
   "execution_count": 109,
   "metadata": {},
   "outputs": [],
   "source": [
    "TAM = set(RA)\n",
    "\n",
    "RA = label_encoder.fit_transform(RA)\n",
    "RA = RA.astype(float)\n",
    "#set(val)  :  Mostra o conjunto distinto de elementos\n",
    "def normalize(n): \n",
    "    return round((n/(len(TAM))), 2)\n",
    "RA = map(normalize, RA)"
   ]
  },
  {
   "cell_type": "code",
   "execution_count": 110,
   "metadata": {},
   "outputs": [],
   "source": [
    "TAM = set(MUNICIPIO)\n",
    "\n",
    "MUNICIPIO = label_encoder.fit_transform(MUNICIPIO)\n",
    "MUNICIPIO = MUNICIPIO.astype(float)\n",
    "#set(val)  :  Mostra o conjunto distinto de elementos\n",
    "def normalize(n): \n",
    "    return round((n/(len(TAM))), 2)\n",
    "MUNICIPIO = map(normalize, MUNICIPIO)"
   ]
  },
  {
   "cell_type": "code",
   "execution_count": 122,
   "metadata": {},
   "outputs": [],
   "source": [
    "TAM = set(RESTITUIU)\n",
    "\n",
    "RESTITUIU = label_encoder.fit_transform(RESTITUIU)\n",
    "RESTITUIU = RESTITUIU.astype(float)"
   ]
  },
  {
   "cell_type": "code",
   "execution_count": 121,
   "metadata": {},
   "outputs": [],
   "source": [
    "from pandas import DataFrame\n",
    "Cars = {'MEDICAMENTO': MEDICAMENTO,\n",
    "        'NM': NM,\n",
    "        'PATOLOGIA': PATOLOGIA,\n",
    "        'PRESCRITOR': PRESCRITOR,\n",
    "        'UNIDADE': UNIDADE,\n",
    "        'ORIGEM': ORIGEM,\n",
    "        'JUIZ': JUIZ,\n",
    "        'COMARCA': COMARCA,\n",
    "        'ADVOGADO': ADVOGADO,\n",
    "        'DEFERIDA': DEFERIDA,\n",
    "        'RA': RA,\n",
    "        'MUNICIPIO': MUNICIPIO,\n",
    "        'RESTITUIU': RESTITUIU\n",
    "        }\n",
    "\n",
    "df = DataFrame(Cars, columns= ['MEDICAMENTO', 'NM', 'PATOLOGIA', 'PRESCRITOR', 'UNIDADE', 'ORIGEM', 'JUIZ', 'COMARCA', 'ADVOGADO', 'DEFERIDA', 'RA', 'MUNICIPIO', 'RESTITUIU'])\n",
    "\n",
    "export_csv = df.to_csv (r'dataframe.csv', index = None, header=True)"
   ]
  },
  {
   "cell_type": "code",
   "execution_count": null,
   "metadata": {},
   "outputs": [],
   "source": []
  }
 ],
 "metadata": {
  "kernelspec": {
   "display_name": "Python 3",
   "language": "python",
   "name": "python3"
  },
  "language_info": {
   "codemirror_mode": {
    "name": "ipython",
    "version": 2
   },
   "file_extension": ".py",
   "mimetype": "text/x-python",
   "name": "python",
   "nbconvert_exporter": "python",
   "pygments_lexer": "ipython2",
   "version": "2.7.16"
  }
 },
 "nbformat": 4,
 "nbformat_minor": 2
}
